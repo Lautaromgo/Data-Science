{
 "metadata": {
  "language_info": {
   "codemirror_mode": {
    "name": "ipython",
    "version": 3
   },
   "file_extension": ".py",
   "mimetype": "text/x-python",
   "name": "python",
   "nbconvert_exporter": "python",
   "pygments_lexer": "ipython3",
   "version": "3.8.4-final"
  },
  "orig_nbformat": 2,
  "kernelspec": {
   "name": "Python 3.8.4 32-bit ('env')",
   "display_name": "Python 3.8.4 32-bit ('env')",
   "metadata": {
    "interpreter": {
     "hash": "abf4a386582818bc7dda984216906bb8f5fbac16beb1d6af11de80f929009fce"
    }
   }
  }
 },
 "nbformat": 4,
 "nbformat_minor": 2,
 "cells": [
  {
   "source": [
    "# Introducción\n",
    "El presente notebook corresponde al trabajo hecho en Hands On Machine Learning de Aurelion Gerón.\n",
    "El pipeline que se va a seguir es el que se propone en el libro.\n",
    "\n",
    "\n",
    "* 1- Entender el problema.\n",
    "* 2- Obtener los datos.\n",
    "* 3- Visualizar los datos.\n",
    "* 4- Preparar los datos para usar con los algoritmos de ML.\n",
    "* 5- Seleccionar un modelo y entrenarlo.\n",
    "* 6- Retocar el modelo.\n",
    "* 7- Presentar la solución\n",
    "* 8- Lanzar a producción y mantener el sistema."
   ],
   "cell_type": "markdown",
   "metadata": {}
  },
  {
   "source": [
    "## 2- Obtener los datos"
   ],
   "cell_type": "markdown",
   "metadata": {}
  },
  {
   "cell_type": "code",
   "execution_count": null,
   "metadata": {},
   "outputs": [],
   "source": [
    "import pandas as pd"
   ]
  },
  {
   "cell_type": "code",
   "execution_count": null,
   "metadata": {},
   "outputs": [],
   "source": [
    "housing = pd.read_csv('D:\\Programacion\\Proyectos\\Data Science\\HandsOn_Machine_Learning\\california_housing_prices\\dataset\\housing.csv')\n",
    "housing.head()"
   ]
  },
  {
   "cell_type": "code",
   "execution_count": null,
   "metadata": {
    "tags": []
   },
   "outputs": [],
   "source": [
    "housing.info()"
   ]
  },
  {
   "source": [
    "La base de datos esta completa. El unico tema es en **total_bedrooms** que aparentemente le faltan algunos registros. En los demas no hay ningun Null por lo que no vamos a tener que trabajar con eso. Son en su mayoría atributos numericos, el unico a considerar es cercanía con el oceano.\n",
    "\n",
    "Podemos chequear en el caso de proximidad al oceano que contiene ese atributo."
   ],
   "cell_type": "markdown",
   "metadata": {}
  },
  {
   "cell_type": "code",
   "execution_count": null,
   "metadata": {},
   "outputs": [],
   "source": [
    "housing['ocean_proximity'].value_counts()"
   ]
  },
  {
   "cell_type": "code",
   "execution_count": null,
   "metadata": {},
   "outputs": [],
   "source": [
    "housing.describe()"
   ]
  },
  {
   "source": [
    "Si tenemos en cuenta los quartiles y el std vemos que en varios casos parecen existir outliers. Podemos mencionar a **total_rooms, total_bedrooms, population, households y median_house_value**, este ultimo caso bastante extraño que termine en un numero tan entero.\n",
    "\n",
    "Otra forma de visualizar la información con la que estamos trabajando es con gráficos."
   ],
   "cell_type": "markdown",
   "metadata": {}
  },
  {
   "cell_type": "code",
   "execution_count": null,
   "metadata": {
    "tags": []
   },
   "outputs": [],
   "source": [
    "%matplotlib inline\n",
    "import matplotlib.pyplot as plt\n",
    "housing.hist(bins=50, figsize=(20,15))\n",
    "plt.show()"
   ]
  },
  {
   "source": [
    "Queda claro como **median_house_value y housing_median_age** estan topeados, es algo que vamos a tener que trabajar. Se pueden realizar dos cosas:\n",
    "* Los sacamos del dataset.\n",
    "* Recolectamos los datos.\n",
    "\n",
    "Con respecto a las demás variables, en su mayoría tienen un sesgo hacia la derecha. En algunos casos puede ser complicado trajar con distribuciones de este estilo, ya que es indicio de valores atipicos. Además, los rangos de las variables distan mucho entre si, por lo que vamos a tener que hacer que re escalar."
   ],
   "cell_type": "markdown",
   "metadata": {}
  },
  {
   "cell_type": "code",
   "execution_count": null,
   "metadata": {},
   "outputs": [],
   "source": [
    "from sklearn.model_selection import train_test_split\n",
    "\n",
    "train_set, test_set = train_test_split(housing, test_size=0.20, random_state=42)"
   ]
  },
  {
   "source": [
    "### Consideraciones\n",
    "Cuando hacemos este tipo de splits tenemos que tener cuidado porque podríamos estar introduciendo un montón de **sampling bias**. Si el dataset es lo suficientemente grande, realizar un split de manera random no sería un inconveniente, pero si no lo es tenemos que considerar de tomar una muestra **estratificada** de nuestra población objetivo. Esto quiere decir que si estamos trabajando estudiando autos argentinos y sabemos que en total hay 54% rojos, 20% y el resto blancos, cuand tomemos nuestra muestra vamos a querer que el % de representación de cada categoría de color se mantenga, es decir, 54% rojo, 20% negro y el resto blanco."
   ],
   "cell_type": "markdown",
   "metadata": {}
  },
  {
   "source": [
    "### Como estratificar?\n",
    "En este problema puede ocurrir que los expertos nos digan que el ingreso medio por casa es la variable mas importante para definir el precio de la casa. Si ese es el caso, puede que querramos que nuestro dataset sea lo suficientemente representativo de las distintas categorías de ingresos que disponemos. Si analizamos el histograma anterior, vemos que la mayoría de los datos se concentran entre 1.5 y 6, pero que también hay datos muy alejados de la media, en este caso, podemos usar **pd.cut** para armar las categorias"
   ],
   "cell_type": "markdown",
   "metadata": {}
  },
  {
   "cell_type": "code",
   "execution_count": null,
   "metadata": {},
   "outputs": [],
   "source": [
    "import numpy as np\n",
    "\n",
    "housing['income_cat'] = pd.cut(housing['median_income'], bins=[0., 1.5, 3.0, 4.5, 6., np.inf], labels=[1, 2, 3, 4, 5])\n",
    "housing['income_cat'].hist()"
   ]
  },
  {
   "source": [
    "Teniendo las categorías, ahora podemos estratificar nuestro dataset. Lo hacemos de la siguiente manera."
   ],
   "cell_type": "markdown",
   "metadata": {}
  },
  {
   "cell_type": "code",
   "execution_count": null,
   "metadata": {},
   "outputs": [],
   "source": [
    "from sklearn.model_selection import StratifiedShuffleSplit\n",
    "\n",
    "split = StratifiedShuffleSplit(n_splits=1, test_size=0.2, random_state=42)\n",
    "for train_index, test_index in split.split(housing, housing['income_cat']):\n",
    "    strat_train_set = housing.loc[train_index]\n",
    "    strat_test_set = housing.loc[test_index]\n",
    "\n",
    "\n",
    "# Chequeamos si funciona\n",
    "strat_train_set['income_cat'].value_counts() / len(strat_train_set)"
   ]
  },
  {
   "source": [
    "Podemos hacer el mismo analisis en el dataset completo para ver si coinciden."
   ],
   "cell_type": "markdown",
   "metadata": {}
  },
  {
   "cell_type": "code",
   "execution_count": null,
   "metadata": {},
   "outputs": [],
   "source": [
    "housing['income_cat'].value_counts() / len(housing)"
   ]
  },
  {
   "source": [
    "Queda claro que sí. Son casi identicos. Esto era lo que tratamos de lograr cuando estratificamos la muestra.\n",
    "\n",
    "Ahora si queremos, podemos remover la columna de income_cat para que el dataset vuelva a ser el mismo que el original."
   ],
   "cell_type": "markdown",
   "metadata": {}
  },
  {
   "cell_type": "code",
   "execution_count": null,
   "metadata": {},
   "outputs": [],
   "source": [
    "for set_ in (strat_test_set, strat_train_set):\n",
    "    set_.drop(\"income_cat\", axis=1, inplace=True)"
   ]
  },
  {
   "source": [
    "## 3- Visualizar los datos\n",
    "Tenemos un conocimiento basico de los datos, ahora la idea es explorar un poco mas en profundidad y empezar a plotear.\n",
    "\n",
    "Lo primero que tenemos que hacer es asegurarnos de que estamos trabajando con el dataset para train, y que dejamos de lado test."
   ],
   "cell_type": "markdown",
   "metadata": {}
  },
  {
   "cell_type": "code",
   "execution_count": null,
   "metadata": {},
   "outputs": [],
   "source": [
    "housing = strat_train_set.copy()"
   ]
  },
  {
   "cell_type": "code",
   "execution_count": null,
   "metadata": {},
   "outputs": [],
   "source": [
    "housing.plot(kind='scatter', x='longitude', y='latitude')"
   ]
  },
  {
   "source": [
    "No es que se puede visualizar mucho. Hay una opción **alpha** que suaviza los colores de los puntos del plot, la podemos usar para observar donde estan mayoritariamente concentrados los puntos."
   ],
   "cell_type": "markdown",
   "metadata": {}
  },
  {
   "cell_type": "code",
   "execution_count": null,
   "metadata": {},
   "outputs": [],
   "source": [
    "housing.plot(kind='scatter', x='longitude', y='latitude', alpha=0.1)"
   ]
  },
  {
   "source": [
    "Se observa que las zonas con mayor concentración son la costa y el centro particularmente.\n",
    "\n",
    "Ahora podemos empezar a agregarle un poco más de cosas al mapa. Ya sabemos donde están concentradas las casas, pero que podemos decir con respecto al precio y la población?"
   ],
   "cell_type": "markdown",
   "metadata": {}
  },
  {
   "cell_type": "code",
   "execution_count": null,
   "metadata": {
    "tags": []
   },
   "outputs": [],
   "source": [
    "housing.plot(kind='scatter', x='longitude', y='latitude', s=housing['population']/100, \n",
    "            c='median_house_value', cmap=plt.get_cmap('jet'), colorbar=True, figsize=(15,10), alpha=0.4)\n",
    "plt.legend([\"poblacion\"])"
   ]
  },
  {
   "source": [
    "> #### > TIP\n",
    "> En el caso de la función plot de pandas, cuando usamos el arguemento **c** para el color, es opcional pasarle un array o directamente el nombre de la columna."
   ],
   "cell_type": "markdown",
   "metadata": {}
  },
  {
   "source": [
    "Como podemos observar en el grafico el area de la Bahía es la más cara. En cuanto a la población parece estar bastante más distribuida, de hecho, se notan algunos aglomerados donde el precio de las casas no es tan alto, igualmente, la densidad poblacional del area de la bahia es obvia.\n",
    "\n",
    "Entonces, una de las principales conclusiones es que el precio de las casas está bastante relacionado con la locaclización y la densidad poblacional."
   ],
   "cell_type": "markdown",
   "metadata": {}
  },
  {
   "source": [
    "### Correlación"
   ],
   "cell_type": "markdown",
   "metadata": {}
  },
  {
   "cell_type": "code",
   "execution_count": null,
   "metadata": {},
   "outputs": [],
   "source": [
    "corr_housing = housing.corr()"
   ]
  },
  {
   "cell_type": "code",
   "execution_count": null,
   "metadata": {},
   "outputs": [],
   "source": [
    "corr_housing['median_house_value'].sort_values(ascending=False)"
   ]
  },
  {
   "source": [
    "> #### > TIP\n",
    "> La interpretación de una correlación negativa entre latitude y el precio de la casa podríamos interpretarla como que los precios tienden a subir un poco cuando nos movemos hacia el sur."
   ],
   "cell_type": "markdown",
   "metadata": {}
  },
  {
   "source": [
    "Lo mas prometedor en este caso claramente es el ingreso medio. Lo que podemos hacer para ver estos numeros de una manera visual es realizar un scatter de columnas contra columnas para ver que forma adquieren. En este caso no tendría sentido plotear todas, ya que serian mas de 100 graficos. Podemos usar algunas que pensamos pueden sernos util mas adelante."
   ],
   "cell_type": "markdown",
   "metadata": {}
  },
  {
   "cell_type": "code",
   "execution_count": null,
   "metadata": {},
   "outputs": [],
   "source": [
    "from pandas.plotting import scatter_matrix\n",
    "\n",
    "atributes = ['median_house_value', 'median_income', 'total_rooms', 'housing_median_age']\n",
    "scatter_matrix(housing[atributes], figsize=(12,10))\n",
    "plt.show()"
   ]
  },
  {
   "source": [
    "Hay algunas cosas a anotar en este dataset como datos de color. Lo más importante, es que el atributo que a priori mas relacion tiene para predecir el valor de una casa es el ingreso. Pero adicionalmente se pueden hacer algunos comentarios con respecto a los datos que arrojan los scatters. Primero, si se mira la relacion entre total de habitaciones y los años de la casa, parece haber una leve tendencia en que las casas mas nuevas tienen mas habitaciones. Segundo, que en este dataset en particular en las areas donde se detectaron ingresos medios son donde estan las casas con mayor numero de habitaciones.\n",
    "\n",
    "Hagamos un zoom en el valor que es mas factible de utilizar para predecir el predecir el precio de las casas."
   ],
   "cell_type": "markdown",
   "metadata": {}
  },
  {
   "cell_type": "code",
   "execution_count": null,
   "metadata": {},
   "outputs": [],
   "source": [
    "housing.plot(kind='scatter', x='median_income', y='median_house_value', alpha=0.1)"
   ]
  }
 ]
}